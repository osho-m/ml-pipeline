{
 "cells": [
  {
   "cell_type": "code",
   "execution_count": 1,
   "id": "9cb8c973",
   "metadata": {},
   "outputs": [
    {
     "name": "stdout",
     "output_type": "stream",
     "text": [
      "(891, 9)\n"
     ]
    },
    {
     "data": {
      "text/html": [
       "<div>\n",
       "<style scoped>\n",
       "    .dataframe tbody tr th:only-of-type {\n",
       "        vertical-align: middle;\n",
       "    }\n",
       "\n",
       "    .dataframe tbody tr th {\n",
       "        vertical-align: top;\n",
       "    }\n",
       "\n",
       "    .dataframe thead th {\n",
       "        text-align: right;\n",
       "    }\n",
       "</style>\n",
       "<table border=\"1\" class=\"dataframe\">\n",
       "  <thead>\n",
       "    <tr style=\"text-align: right;\">\n",
       "      <th></th>\n",
       "      <th>survived</th>\n",
       "      <th>pclass</th>\n",
       "      <th>sex</th>\n",
       "      <th>age</th>\n",
       "      <th>sibsp</th>\n",
       "      <th>parch</th>\n",
       "      <th>fare</th>\n",
       "      <th>deck</th>\n",
       "      <th>embark_town</th>\n",
       "    </tr>\n",
       "  </thead>\n",
       "  <tbody>\n",
       "    <tr>\n",
       "      <th>0</th>\n",
       "      <td>0</td>\n",
       "      <td>3</td>\n",
       "      <td>male</td>\n",
       "      <td>22.0</td>\n",
       "      <td>1</td>\n",
       "      <td>0</td>\n",
       "      <td>7.2500</td>\n",
       "      <td>NaN</td>\n",
       "      <td>Southampton</td>\n",
       "    </tr>\n",
       "    <tr>\n",
       "      <th>1</th>\n",
       "      <td>1</td>\n",
       "      <td>1</td>\n",
       "      <td>female</td>\n",
       "      <td>38.0</td>\n",
       "      <td>1</td>\n",
       "      <td>0</td>\n",
       "      <td>71.2833</td>\n",
       "      <td>C</td>\n",
       "      <td>Cherbourg</td>\n",
       "    </tr>\n",
       "    <tr>\n",
       "      <th>2</th>\n",
       "      <td>1</td>\n",
       "      <td>3</td>\n",
       "      <td>female</td>\n",
       "      <td>26.0</td>\n",
       "      <td>0</td>\n",
       "      <td>0</td>\n",
       "      <td>7.9250</td>\n",
       "      <td>NaN</td>\n",
       "      <td>Southampton</td>\n",
       "    </tr>\n",
       "    <tr>\n",
       "      <th>3</th>\n",
       "      <td>1</td>\n",
       "      <td>1</td>\n",
       "      <td>female</td>\n",
       "      <td>35.0</td>\n",
       "      <td>1</td>\n",
       "      <td>0</td>\n",
       "      <td>53.1000</td>\n",
       "      <td>C</td>\n",
       "      <td>Southampton</td>\n",
       "    </tr>\n",
       "    <tr>\n",
       "      <th>4</th>\n",
       "      <td>0</td>\n",
       "      <td>3</td>\n",
       "      <td>male</td>\n",
       "      <td>35.0</td>\n",
       "      <td>0</td>\n",
       "      <td>0</td>\n",
       "      <td>8.0500</td>\n",
       "      <td>NaN</td>\n",
       "      <td>Southampton</td>\n",
       "    </tr>\n",
       "  </tbody>\n",
       "</table>\n",
       "</div>"
      ],
      "text/plain": [
       "   survived  pclass     sex   age  sibsp  parch     fare deck  embark_town\n",
       "0         0       3    male  22.0      1      0   7.2500  NaN  Southampton\n",
       "1         1       1  female  38.0      1      0  71.2833    C    Cherbourg\n",
       "2         1       3  female  26.0      0      0   7.9250  NaN  Southampton\n",
       "3         1       1  female  35.0      1      0  53.1000    C  Southampton\n",
       "4         0       3    male  35.0      0      0   8.0500  NaN  Southampton"
      ]
     },
     "execution_count": 1,
     "metadata": {},
     "output_type": "execute_result"
    }
   ],
   "source": [
    "# Data manipulation\n",
    "from seaborn import load_dataset\n",
    "import numpy as np\n",
    "import pandas as pd\n",
    "from functions import calculate_roc_auc\n",
    "pd.options.display.precision = 4\n",
    "pd.options.mode.chained_assignment = None  \n",
    "\n",
    "# Machine learning pipeline\n",
    "from sklearn.model_selection import train_test_split\n",
    "from transformers import FeatureExtractor, Imputer, CardinalityReducer, Encoder\n",
    "from sklearn.pipeline import Pipeline\n",
    "from sklearn.feature_selection import RFE\n",
    "from sklearn.linear_model import LogisticRegression\n",
    "\n",
    "# Load data\n",
    "columns = ['alive', 'class', 'embarked', 'who', 'alone', 'adult_male']\n",
    "df = load_dataset('titanic').drop(columns=columns)\n",
    "df['deck'] = df['deck'].astype('object')\n",
    "print(df.shape)\n",
    "df.head()"
   ]
  },
  {
   "cell_type": "code",
   "execution_count": 2,
   "id": "32eb60cf",
   "metadata": {},
   "outputs": [
    {
     "name": "stdout",
     "output_type": "stream",
     "text": [
      "Numerical features: pclass, age, sibsp, parch, fare\n",
      "Categorical features: deck, embark_town, sex\n",
      "\n",
      "Training features shape: (712, 8)\n",
      "Test features shape: (179, 8)\n"
     ]
    }
   ],
   "source": [
    "SEED = 42\n",
    "TARGET = 'survived'\n",
    "FEATURES = df.columns.drop(TARGET)\n",
    "\n",
    "NUMERICAL = df[FEATURES].select_dtypes('number').columns\n",
    "print(f\"Numerical features: {', '.join(NUMERICAL)}\")\n",
    "\n",
    "CATEGORICAL = pd.Index(np.setdiff1d(FEATURES, NUMERICAL))\n",
    "print(f\"Categorical features: {', '.join(CATEGORICAL)}\\n\")\n",
    "\n",
    "X_train, X_test, y_train, y_test = train_test_split(df.drop(columns=TARGET), df[TARGET], \n",
    "                                                    test_size=.2, random_state=SEED, \n",
    "                                                    stratify=df[TARGET])\n",
    "\n",
    "print(f\"Training features shape: {X_train.shape}\")\n",
    "print(f\"Test features shape: {X_test.shape}\")"
   ]
  },
  {
   "cell_type": "code",
   "execution_count": 3,
   "id": "733c405e",
   "metadata": {},
   "outputs": [
    {
     "name": "stdout",
     "output_type": "stream",
     "text": [
      "Train ROC-AUC: 0.8637\n",
      "Test ROC-AUC: 0.8416\n"
     ]
    }
   ],
   "source": [
    "pipe = Pipeline([\n",
    "    ('feature_extractor', FeatureExtractor()), \n",
    "    ('cat_imputer', Imputer(CATEGORICAL)), \n",
    "    ('cardinality_reducer', CardinalityReducer(CATEGORICAL, threshold=0.1)),\n",
    "    ('encoder', Encoder(CATEGORICAL)),\n",
    "    ('num_imputer', Imputer(NUMERICAL, method='mean')), \n",
    "    ('feature_selector', RFE(LogisticRegression(random_state=SEED, max_iter=500), n_features_to_select=8)), \n",
    "    ('model', LogisticRegression(random_state=SEED, max_iter=500))\n",
    "])\n",
    "\n",
    "pipe.fit(X_train, y_train)\n",
    "print(f\"Train ROC-AUC: {calculate_roc_auc(pipe, X_train, y_train):.4f}\")\n",
    "print(f\"Test ROC-AUC: {calculate_roc_auc(pipe, X_test, y_test):.4f}\")"
   ]
  },
  {
   "cell_type": "code",
   "execution_count": 4,
   "id": "ea218e7d",
   "metadata": {},
   "outputs": [
    {
     "name": "stdout",
     "output_type": "stream",
     "text": [
      "Top 8 features: pclass, age, sibsp, parch, deck_other, embark_town_Southampton, embark_town_other, sex_male\n"
     ]
    }
   ],
   "source": [
    "top_features = pipe['feature_selector'].feature_names_in_[pipe['feature_selector'].support_]\n",
    "print(f\"Top {len(top_features)} features: {', '.join(top_features)}\")"
   ]
  },
  {
   "cell_type": "code",
   "execution_count": null,
   "id": "3f0842fd",
   "metadata": {},
   "outputs": [],
   "source": []
  }
 ],
 "metadata": {
  "kernelspec": {
   "display_name": "Python 3 (ipykernel)",
   "language": "python",
   "name": "python3"
  },
  "language_info": {
   "codemirror_mode": {
    "name": "ipython",
    "version": 3
   },
   "file_extension": ".py",
   "mimetype": "text/x-python",
   "name": "python",
   "nbconvert_exporter": "python",
   "pygments_lexer": "ipython3",
   "version": "3.9.7"
  }
 },
 "nbformat": 4,
 "nbformat_minor": 5
}
