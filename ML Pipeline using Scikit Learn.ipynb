{
 "cells": [
  {
   "cell_type": "code",
   "execution_count": 1,
   "id": "cc1f546a",
   "metadata": {},
   "outputs": [
    {
     "data": {
      "text/plain": [
       "Item_Identifier                 0\n",
       "Item_Weight                  1463\n",
       "Item_Fat_Content                0\n",
       "Item_Visibility                 0\n",
       "Item_Type                       0\n",
       "Item_MRP                        0\n",
       "Outlet_Identifier               0\n",
       "Outlet_Establishment_Year       0\n",
       "Outlet_Size                  2410\n",
       "Outlet_Location_Type            0\n",
       "Outlet_Type                     0\n",
       "Item_Outlet_Sales               0\n",
       "dtype: int64"
      ]
     },
     "execution_count": 1,
     "metadata": {},
     "output_type": "execute_result"
    }
   ],
   "source": [
    "# importing required values\n",
    "import pandas as pd\n",
    "import numpy as np\n",
    "import matplotlib.pyplot as plt\n",
    "%matplotlib inline\n",
    "\n",
    "# read the train data\n",
    "train_data = pd.read_csv('train_v9rqX0R.csv')\n",
    "\n",
    "# check for the null values\n",
    "train_data.isna().sum()"
   ]
  },
  {
   "cell_type": "code",
   "execution_count": 2,
   "id": "6c8ce935",
   "metadata": {},
   "outputs": [],
   "source": [
    "# impute missing values in item weight by mean\n",
    "train_data.Item_Weight.fillna(train_data.Item_Weight.mean(),inplace=True)\n",
    "# impute outlet size in training data by mode\n",
    "train_data.Outlet_Size.fillna(train_data.Outlet_Size.mode()[0],inplace=True)"
   ]
  },
  {
   "cell_type": "code",
   "execution_count": 3,
   "id": "67d5d386",
   "metadata": {},
   "outputs": [],
   "source": [
    "import category_encoders as ce\n",
    "# create an object of the OneHotEncoder\n",
    "OHE = ce.OneHotEncoder(cols=['Item_Fat_Content',\n",
    "                             'Item_Type',\n",
    "                             'Outlet_Identifier',\n",
    "                             'Outlet_Size',\n",
    "                             'Outlet_Location_Type',\n",
    "                             'Outlet_Type'],use_cat_names=True)\n",
    "# encode the categorical variables\n",
    "train_data = OHE.fit_transform(train_data)"
   ]
  },
  {
   "cell_type": "code",
   "execution_count": 4,
   "id": "a12d32b1",
   "metadata": {},
   "outputs": [],
   "source": [
    "from sklearn.preprocessing import StandardScaler\n",
    "# create an object of the StandardScaler\n",
    "scaler = StandardScaler()\n",
    "# fit with the Item_MRP\n",
    "scaler.fit(np.array(train_data.Item_MRP).reshape(-1,1))\n",
    "# transform the data\n",
    "train_data.Item_MRP = scaler.transform(np.array(train_data.Item_MRP).reshape(-1,1))"
   ]
  },
  {
   "cell_type": "code",
   "execution_count": 5,
   "id": "66d15a28",
   "metadata": {},
   "outputs": [
    {
     "data": {
      "text/plain": [
       "((6392, 45), (2131, 45), (6392,), (2131,))"
      ]
     },
     "execution_count": 5,
     "metadata": {},
     "output_type": "execute_result"
    }
   ],
   "source": [
    "# importing libraries\n",
    "from sklearn.linear_model import LinearRegression\n",
    "from sklearn.ensemble import  RandomForestRegressor\n",
    "from sklearn.model_selection import train_test_split\n",
    "from sklearn.metrics import mean_squared_error\n",
    "\n",
    "# separate the independent and target variable \n",
    "train_X = train_data.drop(columns=['Item_Identifier','Item_Outlet_Sales'])\n",
    "train_Y = train_data['Item_Outlet_Sales']\n",
    "\n",
    "# randomly split the data\n",
    "train_x, test_x, train_y, test_y = train_test_split(train_X, train_Y,test_size=0.25,random_state=0)\n",
    "\n",
    "# shape of train and test splits\n",
    "train_x.shape, test_x.shape, train_y.shape, test_y.shape"
   ]
  },
  {
   "cell_type": "code",
   "execution_count": 6,
   "id": "41279a87",
   "metadata": {},
   "outputs": [
    {
     "name": "stdout",
     "output_type": "stream",
     "text": [
      "RMSE on train data:  1120.4176137006764\n",
      "RMSE on test data:  1148.7073395809718\n"
     ]
    }
   ],
   "source": [
    "# create an object of the LinearRegression Model\n",
    "model_LR = LinearRegression()\n",
    "\n",
    "# fit the model with the training data\n",
    "model_LR.fit(train_x, train_y)\n",
    "\n",
    "# predict the target on train and test data \n",
    "predict_train = model_LR.predict(train_x)\n",
    "predict_test  = model_LR.predict(test_x)\n",
    "\n",
    "# Root Mean Squared Error on train and test date\n",
    "print('RMSE on train data: ', mean_squared_error(train_y, predict_train)**(0.5))\n",
    "print('RMSE on test data: ',  mean_squared_error(test_y, predict_test)**(0.5))"
   ]
  },
  {
   "cell_type": "code",
   "execution_count": 7,
   "id": "b6b7bac7",
   "metadata": {},
   "outputs": [
    {
     "name": "stdout",
     "output_type": "stream",
     "text": [
      "RMSE on train data:  895.9049800347818\n",
      "RMSE on test data:  1119.7809933457568\n"
     ]
    }
   ],
   "source": [
    "# create an object of the RandomForestRegressor\n",
    "model_RFR = RandomForestRegressor(max_depth=10)\n",
    "\n",
    "# fit the model with the training data\n",
    "model_RFR.fit(train_x, train_y)\n",
    "\n",
    "# predict the target on train and test data\n",
    "predict_train = model_RFR.predict(train_x)\n",
    "predict_test = model_RFR.predict(test_x)\n",
    "\n",
    "# Root Mean Squared Error on train and test data\n",
    "print('RMSE on train data: ', mean_squared_error(train_y, predict_train)**(0.5))\n",
    "print('RMSE on test data: ',  mean_squared_error(test_y, predict_test)**(0.5))"
   ]
  },
  {
   "cell_type": "code",
   "execution_count": 8,
   "id": "30c35dd9",
   "metadata": {},
   "outputs": [
    {
     "data": {
      "image/png": "[encoded data removed]",
      "text/plain": [
       "<Figure size 720x504 with 1 Axes>"
      ]
     },
     "metadata": {
      "needs_background": "light"
     },
     "output_type": "display_data"
    }
   ],
   "source": [
    "# plot the 7 most important features \n",
    "plt.figure(figsize=(10,7))\n",
    "feat_importances = pd.Series(model_RFR.feature_importances_, index = train_x.columns)\n",
    "feat_importances.nlargest(7).plot(kind='barh');"
   ]
  },
  {
   "cell_type": "code",
   "execution_count": 9,
   "id": "0c1ae687",
   "metadata": {},
   "outputs": [
    {
     "name": "stdout",
     "output_type": "stream",
     "text": [
      "RMSE on train data:  899.8582438552843\n",
      "RMSE on test data:  1117.7016540152065\n"
     ]
    }
   ],
   "source": [
    "# training data with 7 most important features\n",
    "train_x_if = train_x[['Item_MRP', \n",
    "                    'Outlet_Type_Grocery Store',\n",
    "                    'Item_Visibility',\n",
    "                    'Outlet_Type_Supermarket Type3',\n",
    "                    'Outlet_Identifier_OUT027',\n",
    "                    'Outlet_Establishment_Year',\n",
    "                    'Item_Weight']]\n",
    "# test data with 7 most important features\n",
    "test_x_if = test_x[['Item_MRP', \n",
    "                    'Outlet_Type_Grocery Store',\n",
    "                    'Item_Visibility',\n",
    "                    'Outlet_Type_Supermarket Type3',\n",
    "                    'Outlet_Identifier_OUT027',\n",
    "                    'Outlet_Establishment_Year',\n",
    "                    'Item_Weight']]\n",
    "\n",
    "# create an object of the RandfomForestRegressor Model\n",
    "model_RFR_with_if = RandomForestRegressor(max_depth=10,random_state=2)\n",
    "\n",
    "# fit the model with the training data\n",
    "model_RFR_with_if.fit(train_x_if, train_y)\n",
    "\n",
    "# predict the target on the training and test data\n",
    "predict_train_with_if = model_RFR_with_if.predict(train_x_if)\n",
    "predict_test_with_if = model_RFR_with_if.predict(test_x_if)\n",
    "\n",
    "# Root Mean Squared Error on the train and test data\n",
    "print('RMSE on train data: ', mean_squared_error(train_y, predict_train_with_if)**(0.5))\n",
    "print('RMSE on test data: ',  mean_squared_error(test_y, predict_test_with_if)**(0.5))"
   ]
  },
  {
   "cell_type": "code",
   "execution_count": 10,
   "id": "09061c2c",
   "metadata": {},
   "outputs": [],
   "source": [
    "#Building Pipeline\n",
    "\n",
    "# importing required libraries\n",
    "import pandas as pd\n",
    "from sklearn.compose import ColumnTransformer \n",
    "from sklearn.impute import SimpleImputer\n",
    "import category_encoders as ce\n",
    "from sklearn.preprocessing import StandardScaler\n",
    "from sklearn.ensemble import RandomForestRegressor\n",
    "from sklearn.pipeline import Pipeline\n",
    "\n",
    "# read the training data set\n",
    "data = pd.read_csv('train_v9rqX0R.csv')\n",
    "\n",
    "# top rows of the data\n",
    "data.head()\n",
    "\n",
    "# seperate the independent and target variables\n",
    "train_x = data.drop(columns=['Item_Outlet_Sales'])\n",
    "train_y = data['Item_Outlet_Sales']"
   ]
  },
  {
   "cell_type": "code",
   "execution_count": 11,
   "id": "231d35fd",
   "metadata": {},
   "outputs": [],
   "source": [
    "# import the BaseEstimator\n",
    "from sklearn.base import BaseEstimator\n",
    "\n",
    "# define the class OutletTypeEncoder\n",
    "# This will be our custom transformer that will create 3 new binary columns\n",
    "# custom transformer must have methods fit and transform\n",
    "class OutletTypeEncoder(BaseEstimator):\n",
    "\n",
    "    def __init__(self):\n",
    "        pass\n",
    "\n",
    "    def fit(self, documents, y=None):\n",
    "        return self\n",
    "\n",
    "    def transform(self, x_dataset):\n",
    "        x_dataset['outlet_grocery_store'] = (x_dataset['Outlet_Type'] == 'Grocery Store')*1\n",
    "        x_dataset['outlet_supermarket_3'] = (x_dataset['Outlet_Type'] == 'Supermarket Type3')*1\n",
    "        x_dataset['outlet_identifier_OUT027'] = (x_dataset['Outlet_Identifier'] == 'OUT027')*1\n",
    "        \n",
    "        return x_dataset"
   ]
  },
  {
   "cell_type": "code",
   "execution_count": 12,
   "id": "c1cbdc42",
   "metadata": {},
   "outputs": [],
   "source": [
    "# pre-processsing step\n",
    "# Drop the columns - \n",
    "# Impute the missing values in column Item_Weight by mean\n",
    "# Scale the data in the column Item_MRP\n",
    "pre_process = ColumnTransformer(remainder='passthrough',\n",
    "                                transformers=[('drop_columns', 'drop', ['Item_Identifier',\n",
    "                                                                        'Outlet_Identifier',\n",
    "                                                                        'Item_Fat_Content',\n",
    "                                                                        'Item_Type',\n",
    "                                                                        'Outlet_Identifier',\n",
    "                                                                        'Outlet_Size',\n",
    "                                                                        'Outlet_Location_Type',\n",
    "                                                                        'Outlet_Type'\n",
    "                                                                       ]),\n",
    "                                              ('impute_item_weight', SimpleImputer(strategy='mean'), ['Item_Weight']),\n",
    "                                              ('scale_data', StandardScaler(),['Item_MRP'])])"
   ]
  },
  {
   "cell_type": "code",
   "execution_count": 13,
   "id": "27f01149",
   "metadata": {},
   "outputs": [
    {
     "data": {
      "text/plain": [
       "array([4348.01437159,  693.40276088, 2323.35268531, ..., 1300.83665376,\n",
       "       1508.86795688, 1152.35475793])"
      ]
     },
     "execution_count": 13,
     "metadata": {},
     "output_type": "execute_result"
    }
   ],
   "source": [
    "# Define the Pipeline\n",
    "model_pipeline = Pipeline(steps=[('get_outlet_binary_columns', OutletTypeEncoder()), \n",
    "                                 ('pre_processing',pre_process),\n",
    "                                 ('random_forest', RandomForestRegressor(max_depth=10,random_state=2))\n",
    "                                 ])\n",
    "# fit the pipeline with the training data\n",
    "model_pipeline.fit(train_x,train_y)\n",
    "\n",
    "# predict target values on the training data\n",
    "model_pipeline.predict(train_x)"
   ]
  },
  {
   "cell_type": "code",
   "execution_count": 14,
   "id": "8c71a864",
   "metadata": {},
   "outputs": [
    {
     "data": {
      "text/plain": [
       "array([1646.0548363 , 1305.4298012 ,  658.42325097, ..., 1848.60226305,\n",
       "       3959.67937864, 1384.01466986])"
      ]
     },
     "execution_count": 14,
     "metadata": {},
     "output_type": "execute_result"
    }
   ],
   "source": [
    "# read the test data\n",
    "test_data = pd.read_csv('test_AbJTz2l.csv')\n",
    "\n",
    "# predict target variables on the test data \n",
    "model_pipeline.predict(test_data)"
   ]
  },
  {
   "cell_type": "code",
   "execution_count": null,
   "id": "3611b9af",
   "metadata": {},
   "outputs": [],
   "source": []
  }
 ],
 "metadata": {
  "kernelspec": {
   "display_name": "Python 3 (ipykernel)",
   "language": "python",
   "name": "python3"
  },
  "language_info": {
   "codemirror_mode": {
    "name": "ipython",
    "version": 3
   },
   "file_extension": ".py",
   "mimetype": "text/x-python",
   "name": "python",
   "nbconvert_exporter": "python",
   "pygments_lexer": "ipython3",
   "version": "3.9.7"
  }
 },
 "nbformat": 4,
 "nbformat_minor": 5
}
